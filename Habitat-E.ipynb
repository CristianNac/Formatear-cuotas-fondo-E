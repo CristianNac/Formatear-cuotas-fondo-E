{
 "cells": [
  {
   "cell_type": "markdown",
   "metadata": {},
   "source": [
    "#*Fondo E AFP Hábitat*"
   ]
  },
  {
   "cell_type": "code",
   "execution_count": 2,
   "metadata": {},
   "outputs": [],
   "source": [
    "import pandas as pd"
   ]
  },
  {
   "cell_type": "markdown",
   "metadata": {},
   "source": [
    "##*Valor cuota AFP Hábitat año 2000*"
   ]
  },
  {
   "cell_type": "code",
   "execution_count": 5,
   "metadata": {},
   "outputs": [
    {
     "name": "stdout",
     "output_type": "stream",
     "text": [
      "          Fecha     Cuota\n",
      "1    2000-03-01  9.000,00\n",
      "2    2000-03-02  9.000,00\n",
      "3    2000-03-03  9.000,00\n",
      "4    2000-03-04  9.000,00\n",
      "5    2000-03-05  9.000,00\n",
      "..          ...       ...\n",
      "302  2000-12-27  9.843,75\n",
      "303  2000-12-28  9.850,88\n",
      "304  2000-12-29  9.857,12\n",
      "305  2000-12-30  9.857,12\n",
      "306  2000-12-31  9.857,12\n",
      "\n",
      "[306 rows x 2 columns]\n"
     ]
    }
   ],
   "source": [
    "# Especifica el rango de filas a leer\n",
    "start_row = 4\n",
    "end_row = 311\n",
    "num_rows = end_row - start_row\n",
    "\n",
    "# Lee el archivo CSV desde la línea 4 hasta la línea 311\n",
    "Cuota_2000 = pd.read_csv('vcfE2000-2024.csv', sep = \";\",  decimal = \",\", skiprows=start_row - 1, nrows=num_rows)\n",
    "Cuota_2000 = Cuota_2000.reset_index()      #Fecha está siendo considerada como un índice, por lo que debe volver a convertirse en una columna\n",
    "# print(Cuota_2000.head(5))             #Se corrieron todas las columnas a la derecha, por lo tanto el valor de la cuota de hábitat se encuentra en \"Unnamed: 4\"\n",
    "columnas_a_eliminar = ['Fecha', 'APORTA', 'Unnamed: 2', 'CUPRUM', 'HABITAT', 'Unnamed: 6', 'MAGISTER', 'Unnamed: 8', 'PLANVITAL', 'Unnamed: 10', 'PROVIDA', 'Unnamed: 12', 'SANTA MARIA', 'Unnamed: 14', 'SUMMA BANSANDER']\n",
    "Cuota_2000 = Cuota_2000.drop(columnas_a_eliminar, axis = 1)\n",
    "columnas = ['Fecha', 'Cuota']\n",
    "Cuota_2000.columns = columnas\n",
    "Cuota_2000 = Cuota_2000.drop(0)\n",
    "print(Cuota_2000)"
   ]
  },
  {
   "cell_type": "markdown",
   "metadata": {},
   "source": [
    "##*Valor cuota AFP Hábitat año 2001*"
   ]
  },
  {
   "cell_type": "code",
   "execution_count": 6,
   "metadata": {},
   "outputs": [
    {
     "name": "stdout",
     "output_type": "stream",
     "text": [
      "         Fecha      Cuota\n",
      "1   2001-01-01   9.857,12\n",
      "2   2001-01-02   9.873,44\n",
      "3   2001-01-03   9.860,07\n",
      "4   2001-01-04   9.877,18\n",
      "5   2001-01-05   9.895,37\n",
      "6   2001-01-06   9.895,37\n",
      "7   2001-01-07   9.895,37\n",
      "8   2001-01-08   9.920,48\n",
      "9   2001-01-09   9.909,29\n",
      "10  2001-01-10   9.952,07\n",
      "11  2001-01-11   9.955,35\n",
      "12  2001-01-12   9.959,75\n",
      "13  2001-01-13   9.959,75\n",
      "14  2001-01-14   9.959,75\n",
      "15  2001-01-15   9.948,31\n",
      "16  2001-01-16   9.943,40\n",
      "17  2001-01-17   9.907,00\n",
      "18  2001-01-18   9.927,89\n",
      "19  2001-01-19   9.983,95\n",
      "20  2001-01-20   9.983,95\n",
      "21  2001-01-21   9.983,95\n",
      "22  2001-01-22   9.954,33\n",
      "23  2001-01-23   9.972,96\n",
      "24  2001-01-24   9.966,29\n",
      "25  2001-01-25   9.987,61\n",
      "26  2001-01-26  10.003,58\n",
      "27  2001-01-27  10.003,58\n",
      "28  2001-01-28  10.003,58\n",
      "29  2001-01-29  10.019,12\n",
      "30  2001-01-30  10.014,57\n",
      "31  2001-01-31  10.009,90\n"
     ]
    }
   ],
   "source": [
    "\n",
    "#Parte 1 año 2001\n",
    "\n",
    "start_row = 315\n",
    "end_row = 347\n",
    "num_rows = end_row - start_row\n",
    "\n",
    "Cuota_2001_1 = pd.read_csv('vcfE2000-2024.csv', sep = \";\",  decimal = \",\", skiprows=start_row - 1, nrows=num_rows)\n",
    "Cuota_2001_1 = Cuota_2001_1.reset_index()      #Fecha está siendo considerada como un índice, por lo que debe volver a convertirse en una columna\n",
    "# print(Cuota_2001_1.head(5))             #Se corrieron todas las columnas a la derecha, por lo tanto el valor de la cuota de hábitat se encuentra en \"Unnamed: 4\"\n",
    "columnas_a_eliminar = ['Fecha', 'APORTA', 'Unnamed: 2', 'CUPRUM', 'HABITAT', 'Unnamed: 6', 'MAGISTER', 'Unnamed: 8', 'PLANVITAL', 'Unnamed: 10', 'PROVIDA', 'Unnamed: 12', 'SANTA MARIA', 'Unnamed: 14', 'SUMMA BANSANDER']\n",
    "Cuota_2001_1 = Cuota_2001_1.drop(columnas_a_eliminar, axis = 1)\n",
    "columnas = ['Fecha', 'Cuota']\n",
    "Cuota_2001_1.columns = columnas\n",
    "Cuota_2001_1 = Cuota_2001_1.drop(0)\n",
    "print(Cuota_2001_1)"
   ]
  }
 ],
 "metadata": {
  "kernelspec": {
   "display_name": "base",
   "language": "python",
   "name": "python3"
  },
  "language_info": {
   "codemirror_mode": {
    "name": "ipython",
    "version": 3
   },
   "file_extension": ".py",
   "mimetype": "text/x-python",
   "name": "python",
   "nbconvert_exporter": "python",
   "pygments_lexer": "ipython3",
   "version": "3.11.5"
  }
 },
 "nbformat": 4,
 "nbformat_minor": 2
}
