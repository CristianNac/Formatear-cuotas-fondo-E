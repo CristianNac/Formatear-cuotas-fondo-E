{
 "cells": [
  {
   "cell_type": "markdown",
   "metadata": {},
   "source": [
    "#*Fondo E AFP Hábitat*"
   ]
  },
  {
   "cell_type": "code",
   "execution_count": 1,
   "metadata": {},
   "outputs": [],
   "source": [
    "import pandas as pd"
   ]
  },
  {
   "cell_type": "markdown",
   "metadata": {},
   "source": [
    "##*Valor cuota AFP Hábitat año 2000*"
   ]
  },
  {
   "cell_type": "code",
   "execution_count": 5,
   "metadata": {},
   "outputs": [
    {
     "name": "stdout",
     "output_type": "stream",
     "text": [
      "          Fecha     Cuota\n",
      "1    2000-03-01  9.000,00\n",
      "2    2000-03-02  9.000,00\n",
      "3    2000-03-03  9.000,00\n",
      "4    2000-03-04  9.000,00\n",
      "5    2000-03-05  9.000,00\n",
      "..          ...       ...\n",
      "302  2000-12-27  9.843,75\n",
      "303  2000-12-28  9.850,88\n",
      "304  2000-12-29  9.857,12\n",
      "305  2000-12-30  9.857,12\n",
      "306  2000-12-31  9.857,12\n",
      "\n",
      "[306 rows x 2 columns]\n"
     ]
    }
   ],
   "source": [
    "# Especifica el rango de filas a leer\n",
    "start_row = 4\n",
    "end_row = 311\n",
    "num_rows = end_row - start_row\n",
    "\n",
    "# Lee el archivo CSV desde la línea 4 hasta la línea 311\n",
    "Cuota_2000 = pd.read_csv('vcfE2000-2024.csv', sep = \";\",  decimal = \",\", skiprows=start_row - 1, nrows=num_rows)\n",
    "Cuota_2000 = Cuota_2000.reset_index()      #Fecha está siendo considerada como un índice, por lo que debe volver a convertirse en una columna\n",
    "# print(Cuota_2000.head(5))             #Se corrieron todas las columnas a la derecha, por lo tanto el valor de la cuota de hábitat se encuentra en \"Unnamed: 4\"\n",
    "columnas_a_eliminar = ['Fecha', 'APORTA', 'Unnamed: 2', 'CUPRUM', 'HABITAT', 'Unnamed: 6', 'MAGISTER', 'Unnamed: 8', 'PLANVITAL', 'Unnamed: 10', 'PROVIDA', 'Unnamed: 12', 'SANTA MARIA', 'Unnamed: 14', 'SUMMA BANSANDER']\n",
    "Cuota_2000 = Cuota_2000.drop(columnas_a_eliminar, axis = 1)\n",
    "columnas = ['Fecha', 'Cuota']\n",
    "Cuota_2000.columns = columnas\n",
    "Cuota_2000 = Cuota_2000.drop(0)\n",
    "print(Cuota_2000)"
   ]
  },
  {
   "cell_type": "markdown",
   "metadata": {},
   "source": [
    "##*Valor cuota AFP Hábitat año 2001*"
   ]
  },
  {
   "cell_type": "code",
   "execution_count": 6,
   "metadata": {},
   "outputs": [
    {
     "name": "stdout",
     "output_type": "stream",
     "text": [
      "          Fecha      Cuota\n",
      "1    2001-01-01   9.857,12\n",
      "2    2001-01-02   9.873,44\n",
      "3    2001-01-03   9.860,07\n",
      "4    2001-01-04   9.877,18\n",
      "5    2001-01-05   9.895,37\n",
      "..          ...        ...\n",
      "330  2001-12-27  11.009,41\n",
      "331  2001-12-28  11.048,72\n",
      "332  2001-12-29  11.048,72\n",
      "333  2001-12-30  11.048,72\n",
      "334  2001-12-31  11.034,93\n",
      "\n",
      "[365 rows x 2 columns]\n"
     ]
    }
   ],
   "source": [
    "\n",
    "#Parte 1 año 2001\n",
    "\n",
    "start_row = 315\n",
    "end_row = 347\n",
    "num_rows = end_row - start_row\n",
    "\n",
    "Cuota_2001_1 = pd.read_csv('vcfE2000-2024.csv', sep = \";\",  decimal = \",\", skiprows=start_row - 1, nrows=num_rows)\n",
    "Cuota_2001_1 = Cuota_2001_1.reset_index()      #Fecha está siendo considerada como un índice, por lo que debe volver a convertirse en una columna\n",
    "# print(Cuota_2001_1.head(5))             #Se corrieron todas las columnas a la derecha, por lo tanto el valor de la cuota de hábitat se encuentra en \"Unnamed: 4\"\n",
    "columnas_a_eliminar = ['Fecha', 'APORTA', 'Unnamed: 2', 'CUPRUM', 'HABITAT', 'Unnamed: 6', 'MAGISTER', 'Unnamed: 8', 'PLANVITAL', 'Unnamed: 10', 'PROVIDA', 'Unnamed: 12', 'SANTA MARIA', 'Unnamed: 14', 'SUMMA BANSANDER']\n",
    "Cuota_2001_1 = Cuota_2001_1.drop(columnas_a_eliminar, axis = 1)\n",
    "columnas = ['Fecha', 'Cuota']\n",
    "Cuota_2001_1.columns = columnas\n",
    "Cuota_2001_1 = Cuota_2001_1.drop(0)\n",
    "# print(Cuota_2001_1)\n",
    "\n",
    "#Parte 2 año 2001\n",
    "\n",
    "start_row = 351\n",
    "end_row = 686\n",
    "num_rows = end_row - start_row\n",
    "\n",
    "Cuota_2001_2 = pd.read_csv('vcfE2000-2024.csv', sep = \";\",  decimal = \",\", skiprows=start_row - 1, nrows=num_rows)\n",
    "Cuota_2001_2 = Cuota_2001_2.reset_index()      #Fecha está siendo considerada como un índice, por lo que debe volver a convertirse en una columna\n",
    "# print(Cuota_2001_2.head(5))             #Se corrieron todas las columnas a la derecha, por lo tanto el valor de la cuota de hábitat se encuentra en \"Unnamed: 2\"\n",
    "columnas_a_eliminar = ['Fecha', 'CUPRUM', 'HABITAT', 'Unnamed: 4', 'MAGISTER', 'Unnamed: 6', 'PLANVITAL', 'Unnamed: 8', 'PROVIDA', 'Unnamed: 10', 'SANTA MARIA', 'Unnamed: 12', 'SUMMA BANSANDER']\n",
    "Cuota_2001_2 = Cuota_2001_2.drop(columnas_a_eliminar, axis = 1)\n",
    "columnas = ['Fecha', 'Cuota']\n",
    "Cuota_2001_2.columns = columnas\n",
    "Cuota_2001_2 = Cuota_2001_2.drop(0)\n",
    "\n",
    "Cuota_2001 = pd.concat([Cuota_2001_1, Cuota_2001_2], axis = 0)\n",
    "print(Cuota_2001)"
   ]
  },
  {
   "cell_type": "markdown",
   "metadata": {},
   "source": [
    "##Valor Cuota AFP Hábitat año 2002"
   ]
  },
  {
   "cell_type": "code",
   "execution_count": 9,
   "metadata": {},
   "outputs": [
    {
     "name": "stdout",
     "output_type": "stream",
     "text": [
      "          Fecha      Cuota\n",
      "1    2002-01-01  11.034,93\n",
      "2    2002-01-02  11.037,19\n",
      "3    2002-01-03  11.024,84\n",
      "4    2002-01-04  11.041,84\n",
      "5    2002-01-05  11.041,84\n",
      "..          ...        ...\n",
      "361  2002-12-27  12.254,57\n",
      "362  2002-12-28  12.254,57\n",
      "363  2002-12-29  12.254,57\n",
      "364  2002-12-30  12.220,86\n",
      "365  2002-12-31  12.266,05\n",
      "\n",
      "[365 rows x 2 columns]\n"
     ]
    }
   ],
   "source": [
    "start_row = 690\n",
    "end_row = 1056\n",
    "num_rows = end_row - start_row\n",
    "\n",
    "# Lee el archivo CSV desde la línea 3 hasta la línea 157\n",
    "Cuota_2002 = pd.read_csv('vcfE2000-2024.csv', sep = \";\",  decimal = \",\", skiprows=start_row - 1, nrows=num_rows)\n",
    "Cuota_2002 = Cuota_2002.reset_index()      #Fecha está siendo considerada como un índice, por lo que debe volver a convertirse en una columna\n",
    "# print(Cuota_2002.head(5))             #Se corrieron todas las columnas a la derecha, por lo tanto el valor de la cuota de hábitat se encuentra en \"Unnamed: 2\"\n",
    "columnas_a_eliminar = ['Fecha', 'CUPRUM', 'HABITAT', 'Unnamed: 4', 'MAGISTER', 'Unnamed: 6', 'PLANVITAL', 'Unnamed: 8', 'PROVIDA', 'Unnamed: 10', 'SANTA MARIA', 'Unnamed: 12', 'SUMMA BANSANDER']\n",
    "Cuota_2002 = Cuota_2002.drop(columnas_a_eliminar, axis = 1)\n",
    "columnas = ['Fecha', 'Cuota']\n",
    "Cuota_2002.columns = columnas\n",
    "Cuota_2002 = Cuota_2002.drop(0)\n",
    "print(Cuota_2002)"
   ]
  },
  {
   "cell_type": "markdown",
   "metadata": {},
   "source": [
    "##Valor Cuota AFP Hábitat año 2003 "
   ]
  },
  {
   "cell_type": "code",
   "execution_count": 10,
   "metadata": {},
   "outputs": [
    {
     "name": "stdout",
     "output_type": "stream",
     "text": [
      "          Fecha      Cuota\n",
      "1    2003-01-01  12.266,05\n",
      "2    2003-01-02  12.283,69\n",
      "3    2003-01-03  12.299,11\n",
      "4    2003-01-04  12.299,11\n",
      "5    2003-01-05  12.299,11\n",
      "..          ...        ...\n",
      "361  2003-12-27  12.803,46\n",
      "362  2003-12-28  12.803,46\n",
      "363  2003-12-29  12.811,66\n",
      "364  2003-12-30  12.845,83\n",
      "365  2003-12-31  12.816,36\n",
      "\n",
      "[365 rows x 2 columns]\n"
     ]
    }
   ],
   "source": [
    "start_row = 1060\n",
    "end_row = 1426\n",
    "num_rows = end_row - start_row\n",
    "\n",
    "Cuota_2003 = pd.read_csv('vcfE2000-2024.csv', sep = \";\",  decimal = \",\", skiprows=start_row - 1, nrows=num_rows)\n",
    "Cuota_2003 = Cuota_2003.reset_index()      #Fecha está siendo considerada como un índice, por lo que debe volver a convertirse en una columna\n",
    "# print(Cuota_2003.head(5))             #Se corrieron todas las columnas a la derecha, por lo tanto el valor de la cuota de hábitat se encuentra en \"Unnamed: 2\"\n",
    "columnas_a_eliminar = ['Fecha', 'CUPRUM', 'HABITAT', 'Unnamed: 4', 'MAGISTER', 'Unnamed: 6', 'PLANVITAL', 'Unnamed: 8', 'PROVIDA', 'Unnamed: 10', 'SANTA MARIA', 'Unnamed: 12', 'SUMMA BANSANDER']\n",
    "Cuota_2003 = Cuota_2003.drop(columnas_a_eliminar, axis = 1)\n",
    "columnas = ['Fecha', 'Cuota']\n",
    "Cuota_2003.columns = columnas\n",
    "Cuota_2003 = Cuota_2003.drop(0)\n",
    "print(Cuota_2003)"
   ]
  },
  {
   "cell_type": "markdown",
   "metadata": {},
   "source": [
    "##Valor Cuota AFP Hábitat año 2004 "
   ]
  },
  {
   "cell_type": "code",
   "execution_count": 11,
   "metadata": {},
   "outputs": [
    {
     "name": "stdout",
     "output_type": "stream",
     "text": [
      "          Fecha      Cuota\n",
      "1    2004-01-01  12.816,36\n",
      "2    2004-01-02  12.797,58\n",
      "3    2004-01-03  12.797,58\n",
      "4    2004-01-04  12.797,58\n",
      "5    2004-01-05  12.811,54\n",
      "..          ...        ...\n",
      "302  2004-12-27  13.873,05\n",
      "303  2004-12-28  13.872,94\n",
      "304  2004-12-29  13.865,78\n",
      "305  2004-12-30  13.883,86\n",
      "306  2004-12-31  13.877,40\n",
      "\n",
      "[366 rows x 2 columns]\n"
     ]
    }
   ],
   "source": [
    "#Primera parte año 2004\n",
    "\n",
    "start_row = 1430\n",
    "end_row = 1491\n",
    "num_rows = end_row - start_row\n",
    "\n",
    "Cuota_2004_1 = pd.read_csv('vcfE2000-2024.csv', sep = \";\",  decimal = \",\", skiprows=start_row - 1, nrows=num_rows)\n",
    "Cuota_2004_1 = Cuota_2004_1.reset_index()      #Fecha está siendo considerada como un índice, por lo que debe volver a convertirse en una columna\n",
    "# print(Cuota_2004_1.head(5))             #Se corrieron todas las columnas a la derecha, por lo tanto el valor de la cuota de hábitat se encuentra en \"Unnamed: 2\"\n",
    "columnas_a_eliminar = ['Fecha', 'CUPRUM', 'HABITAT', 'Unnamed: 4', 'MAGISTER', 'Unnamed: 6', 'PLANVITAL', 'Unnamed: 8', 'PROVIDA', 'Unnamed: 10', 'SANTA MARIA', 'Unnamed: 12', 'SUMMA BANSANDER']\n",
    "Cuota_2004_1 = Cuota_2004_1.drop(columnas_a_eliminar, axis = 1)\n",
    "columnas = ['Fecha', 'Cuota']\n",
    "Cuota_2004_1.columns = columnas\n",
    "Cuota_2004_1 = Cuota_2004_1.drop(0)\n",
    "# print(Cuota_2004_1)\n",
    "\n",
    "#Segunda Parte año 2004\n",
    "\n",
    "start_row = 1495\n",
    "end_row = 1802\n",
    "num_rows = end_row - start_row\n",
    "\n",
    "Cuota_2004_2 = pd.read_csv('vcfE2000-2024.csv', sep = \";\",  decimal = \",\", skiprows=start_row - 1, nrows=num_rows)\n",
    "Cuota_2004_2 = Cuota_2004_2.reset_index()      #Fecha está siendo considerada como un índice, por lo que debe volver a convertirse en una columna\n",
    "# print(Cuota_2004_2.columns)             #Se corrieron todas las columnas a la derecha, por lo tanto el valor de la cuota de hábitat se encuentra en \"Unnamed: 2\"\n",
    "columnas_a_eliminar = ['Fecha', 'CUPRUM', 'HABITAT', 'Unnamed: 4','Unnamed: 6', 'PLANVITAL', 'Unnamed: 8', 'PROVIDA', 'Unnamed: 10', 'SANTA MARIA','SUMMA BANSANDER']\n",
    "Cuota_2004_2 = Cuota_2004_2.drop(columnas_a_eliminar, axis = 1)\n",
    "columnas = ['Fecha', 'Cuota']\n",
    "Cuota_2004_2.columns = columnas\n",
    "Cuota_2004_2 = Cuota_2004_2.drop(0)\n",
    "# print(Cuota_2004_2)\n",
    "\n",
    "Cuota_2004 = pd.concat([Cuota_2004_1, Cuota_2004_2], axis = 0)\n",
    "print(Cuota_2004)\n"
   ]
  },
  {
   "cell_type": "markdown",
   "metadata": {},
   "source": [
    "##Valor Cuota AFP Hábitat año 2005 "
   ]
  },
  {
   "cell_type": "code",
   "execution_count": 12,
   "metadata": {},
   "outputs": [
    {
     "name": "stdout",
     "output_type": "stream",
     "text": [
      "          Fecha      Cuota\n",
      "1    2005-01-01  13.877,40\n",
      "2    2005-01-02  13.877,40\n",
      "3    2005-01-03  13.878,67\n",
      "4    2005-01-04  13.875,30\n",
      "5    2005-01-05  13.876,78\n",
      "..          ...        ...\n",
      "302  2005-12-27  14.539,41\n",
      "303  2005-12-28  14.520,85\n",
      "304  2005-12-29  14.533,92\n",
      "305  2005-12-30  14.554,31\n",
      "306  2005-12-31  14.554,31\n",
      "\n",
      "[365 rows x 2 columns]\n"
     ]
    }
   ],
   "source": [
    "#Parte 1 año 2005\n",
    "\n",
    "start_row = 1806\n",
    "end_row = 1866\n",
    "num_rows = end_row - start_row\n",
    "\n",
    "Cuota_2005_1 = pd.read_csv('vcfE2000-2024.csv', sep = \";\",  decimal = \",\", skiprows=start_row - 1, nrows=num_rows)\n",
    "Cuota_2005_1 = Cuota_2005_1.reset_index()      #Fecha está siendo considerada como un índice, por lo que debe volver a convertirse en una columna\n",
    "# print(Cuota_2005_1.columns)             #Se corrieron todas las columnas a la derecha, por lo tanto el valor de la cuota de hábitat se encuentra en \"Unnamed: 2\"\n",
    "columnas_a_eliminar = ['Fecha', 'CUPRUM', 'HABITAT', 'Unnamed: 4','Unnamed: 6', 'PLANVITAL', 'Unnamed: 8', 'PROVIDA', 'Unnamed: 10', 'SANTA MARIA','SUMMA BANSANDER']\n",
    "Cuota_2005_1 = Cuota_2005_1.drop(columnas_a_eliminar, axis = 1)\n",
    "columnas = ['Fecha', 'Cuota']\n",
    "Cuota_2005_1.columns = columnas\n",
    "Cuota_2005_1 = Cuota_2005_1.drop(0)\n",
    "# print(Cuota_2005_1)\n",
    "\n",
    "\n",
    "#Parte 2 año 2005\n",
    "\n",
    "start_row = 1870\n",
    "end_row = 2177\n",
    "num_rows = end_row - start_row\n",
    "\n",
    "Cuota_2005_2 = pd.read_csv('vcfE2000-2024.csv', sep = \";\",  decimal = \",\", skiprows=start_row - 1, nrows=num_rows)\n",
    "Cuota_2005_2 = Cuota_2005_2.reset_index()      #Fecha está siendo considerada como un índice, por lo que debe volver a convertirse en una columna\n",
    "# print(Cuota_2005_2.columns)             #Se corrieron todas las columnas a la derecha, por lo tanto el valor de la cuota de hábitat se encuentra en \"Unnamed: 4\"\n",
    "columnas_a_eliminar = ['Fecha', 'BANSANDER', 'Unnamed: 2', 'CUPRUM','HABITAT', 'Unnamed: 6', 'PLANVITAL', 'PROVIDA', 'Unnamed: 10', 'SANTA MARIA','Unnamed: 8']\n",
    "Cuota_2005_2 = Cuota_2005_2.drop(columnas_a_eliminar, axis = 1)\n",
    "columnas = ['Fecha', 'Cuota']\n",
    "Cuota_2005_2.columns = columnas\n",
    "Cuota_2005_2 = Cuota_2005_2.drop(0)\n",
    "# print(Cuota_2005_2)\n",
    "\n",
    "Cuota_2005 = pd.concat([Cuota_2005_1, Cuota_2005_2], axis = 0)\n",
    "print(Cuota_2005)\n"
   ]
  },
  {
   "cell_type": "markdown",
   "metadata": {},
   "source": [
    "##Valor cuota AFP Hábitat año 2006"
   ]
  },
  {
   "cell_type": "code",
   "execution_count": 13,
   "metadata": {},
   "outputs": [
    {
     "name": "stdout",
     "output_type": "stream",
     "text": [
      "          Fecha      Cuota\n",
      "1    2006-01-01  14.554,31\n",
      "2    2006-01-02  14.559,96\n",
      "3    2006-01-03  14.586,60\n",
      "4    2006-01-04  14.604,40\n",
      "5    2006-01-05  14.590,76\n",
      "..          ...        ...\n",
      "361  2006-12-27  15.994,62\n",
      "362  2006-12-28  16.005,48\n",
      "363  2006-12-29  16.027,68\n",
      "364  2006-12-30  16.027,68\n",
      "365  2006-12-31  16.027,68\n",
      "\n",
      "[365 rows x 2 columns]\n"
     ]
    }
   ],
   "source": [
    "start_row = 2181\n",
    "end_row = 2547\n",
    "num_rows = end_row - start_row\n",
    "\n",
    "Cuota_2006 = pd.read_csv('vcfE2000-2024.csv', sep = \";\",  decimal = \",\", skiprows=start_row - 1, nrows=num_rows)\n",
    "Cuota_2006 = Cuota_2006.reset_index()      #Fecha está siendo considerada como un índice, por lo que debe volver a convertirse en una columna\n",
    "# print(Cuota_2006.columns)             #Se corrieron todas las columnas a la derecha, por lo tanto el valor de la cuota de hábitat se encuentra en \"Unnamed: 4\"\n",
    "columnas_a_eliminar = ['Fecha', 'BANSANDER', 'Unnamed: 2', 'CUPRUM','HABITAT', 'Unnamed: 6', 'PLANVITAL', 'PROVIDA', 'Unnamed: 10', 'SANTA MARIA','Unnamed: 8']\n",
    "Cuota_2006 = Cuota_2006.drop(columnas_a_eliminar, axis = 1)\n",
    "columnas = ['Fecha', 'Cuota']\n",
    "Cuota_2006.columns = columnas\n",
    "Cuota_2006 = Cuota_2006.drop(0)\n",
    "print(Cuota_2006)"
   ]
  },
  {
   "cell_type": "markdown",
   "metadata": {},
   "source": [
    "##Valor Cuota AFP Hábitat año 2007"
   ]
  },
  {
   "cell_type": "code",
   "execution_count": 14,
   "metadata": {},
   "outputs": [
    {
     "name": "stdout",
     "output_type": "stream",
     "text": [
      "          Fecha      Cuota\n",
      "1    2007-01-01  16.027,68\n",
      "2    2007-01-02  16.016,43\n",
      "3    2007-01-03  16.015,78\n",
      "4    2007-01-04  16.034,12\n",
      "5    2007-01-05  16.032,13\n",
      "..          ...        ...\n",
      "361  2007-12-27  17.587,48\n",
      "362  2007-12-28  17.574,33\n",
      "363  2007-12-29  17.574,33\n",
      "364  2007-12-30  17.574,33\n",
      "365  2007-12-31  17.600,04\n",
      "\n",
      "[365 rows x 2 columns]\n"
     ]
    }
   ],
   "source": [
    "start_row = 2551\n",
    "end_row = 2917\n",
    "num_rows = end_row - start_row\n",
    "\n",
    "Cuota_2007 = pd.read_csv('vcfE2000-2024.csv', sep = \";\",  decimal = \",\", skiprows=start_row - 1, nrows=num_rows)\n",
    "Cuota_2007 = Cuota_2007.reset_index()      #Fecha está siendo considerada como un índice, por lo que debe volver a convertirse en una columna\n",
    "# print(Cuota_2007.columns)             #Se corrieron todas las columnas a la derecha, por lo tanto el valor de la cuota de hábitat se encuentra en \"Unnamed: 4\"\n",
    "columnas_a_eliminar = ['Fecha', 'BANSANDER', 'Unnamed: 2', 'CUPRUM','HABITAT', 'Unnamed: 6', 'PLANVITAL', 'PROVIDA', 'Unnamed: 10', 'SANTA MARIA','Unnamed: 8']\n",
    "Cuota_2007 = Cuota_2007.drop(columnas_a_eliminar, axis = 1)\n",
    "columnas = ['Fecha', 'Cuota']\n",
    "Cuota_2007.columns = columnas\n",
    "Cuota_2007 = Cuota_2007.drop(0)\n",
    "print(Cuota_2007)"
   ]
  },
  {
   "cell_type": "markdown",
   "metadata": {},
   "source": [
    "##Valor cuota año 2008 "
   ]
  },
  {
   "cell_type": "code",
   "execution_count": 15,
   "metadata": {},
   "outputs": [
    {
     "name": "stdout",
     "output_type": "stream",
     "text": [
      "          Fecha      Cuota\n",
      "1    2008-01-01  17.600,04\n",
      "2    2008-01-02  17.607,29\n",
      "3    2008-01-03  17.613,68\n",
      "4    2008-01-04  17.630,24\n",
      "5    2008-01-05  17.630,24\n",
      "..          ...        ...\n",
      "271  2008-12-27  19.089,90\n",
      "272  2008-12-28  19.089,90\n",
      "273  2008-12-29  19.108,16\n",
      "274  2008-12-30  19.118,11\n",
      "275  2008-12-31  19.179,77\n",
      "\n",
      "[366 rows x 2 columns]\n"
     ]
    }
   ],
   "source": [
    "#Parte 1 año 2008\n",
    "\n",
    "start_row = 2921\n",
    "end_row = 3013\n",
    "num_rows = end_row - start_row\n",
    "\n",
    "Cuota_2008_1 = pd.read_csv('vcfE2000-2024.csv', sep = \";\",  decimal = \",\", skiprows=start_row - 1, nrows=num_rows)\n",
    "Cuota_2008_1 = Cuota_2008_1.reset_index()      #Fecha está siendo considerada como un índice, por lo que debe volver a convertirse en una columna\n",
    "# print(Cuota_2008_1.columns)             #Se corrieron todas las columnas a la derecha, por lo tanto el valor de la cuota de hábitat se encuentra en \"Unnamed: 4\"\n",
    "columnas_a_eliminar = ['Fecha', 'BANSANDER', 'Unnamed: 2', 'CUPRUM','HABITAT', 'Unnamed: 6', 'PLANVITAL', 'PROVIDA', 'Unnamed: 10', 'SANTA MARIA','Unnamed: 8']\n",
    "Cuota_2008_1 = Cuota_2008_1.drop(columnas_a_eliminar, axis = 1)\n",
    "columnas = ['Fecha', 'Cuota']\n",
    "Cuota_2008_1.columns = columnas\n",
    "Cuota_2008_1 = Cuota_2008_1.drop(0)\n",
    "# print(Cuota_2008_1)\n",
    "\n",
    "#Parte 2 del año 2008\n",
    "\n",
    "start_row = 3017\n",
    "end_row = 3293\n",
    "num_rows = end_row - start_row\n",
    "\n",
    "Cuota_2008_2 = pd.read_csv('vcfE2000-2024.csv', sep = \";\",  decimal = \",\", skiprows=start_row - 1, nrows=num_rows)\n",
    "Cuota_2008_2 = Cuota_2008_2.reset_index()      #Fecha está siendo considerada como un índice, por lo que debe volver a convertirse en una columna\n",
    "# print(Cuota_2008_2.columns)             #Se corrieron todas las columnas a la derecha, por lo tanto el valor de la cuota de hábitat se encuentra en \"Unnamed: 4\"\n",
    "columnas_a_eliminar = ['Fecha', 'CAPITAL', 'Unnamed: 2', 'CUPRUM','HABITAT', 'Unnamed: 6', 'PLANVITAL', 'PROVIDA','Unnamed: 8']\n",
    "Cuota_2008_2 = Cuota_2008_2.drop(columnas_a_eliminar, axis = 1)\n",
    "columnas = ['Fecha', 'Cuota']\n",
    "Cuota_2008_2.columns = columnas\n",
    "Cuota_2008_2 = Cuota_2008_2.drop(0)\n",
    "# print(Cuota_2008_2)\n",
    "\n",
    "Cuota_2008 = pd.concat([Cuota_2008_1, Cuota_2008_2], axis = 0)\n",
    "print(Cuota_2008)\n"
   ]
  },
  {
   "cell_type": "markdown",
   "metadata": {},
   "source": [
    "##Valor cuota AFP Hábitat año 2009 "
   ]
  },
  {
   "cell_type": "code",
   "execution_count": 16,
   "metadata": {},
   "outputs": [
    {
     "name": "stdout",
     "output_type": "stream",
     "text": [
      "          Fecha      Cuota\n",
      "1    2009-01-01  19.179,77\n",
      "2    2009-01-02  19.183,06\n",
      "3    2009-01-03  19.183,06\n",
      "4    2009-01-04  19.183,06\n",
      "5    2009-01-05  19.184,49\n",
      "..          ...        ...\n",
      "361  2009-12-27  20.219,29\n",
      "362  2009-12-28  20.215,32\n",
      "363  2009-12-29  20.248,06\n",
      "364  2009-12-30  20.243,18\n",
      "365  2009-12-31  20.285,24\n",
      "\n",
      "[365 rows x 2 columns]\n"
     ]
    }
   ],
   "source": [
    "start_row = 3297\n",
    "end_row = 3663\n",
    "num_rows = end_row - start_row\n",
    "\n",
    "Cuota_2009 = pd.read_csv('vcfE2000-2024.csv', sep = \";\",  decimal = \",\", skiprows=start_row - 1, nrows=num_rows)\n",
    "Cuota_2009 = Cuota_2009.reset_index()      #Fecha está siendo considerada como un índice, por lo que debe volver a convertirse en una columna\n",
    "# print(Cuota_2009.columns)             #Se corrieron todas las columnas a la derecha, por lo tanto el valor de la cuota de hábitat se encuentra en \"Unnamed: 4\"\n",
    "columnas_a_eliminar = ['Fecha', 'CAPITAL', 'Unnamed: 2', 'CUPRUM','HABITAT', 'Unnamed: 6', 'PLANVITAL', 'PROVIDA','Unnamed: 8']\n",
    "Cuota_2009 = Cuota_2009.drop(columnas_a_eliminar, axis = 1)\n",
    "columnas = ['Fecha', 'Cuota']\n",
    "Cuota_2009.columns = columnas\n",
    "Cuota_2009 = Cuota_2009.drop(0)\n",
    "print(Cuota_2009)"
   ]
  },
  {
   "cell_type": "markdown",
   "metadata": {},
   "source": [
    "##Valor cuota AFP Hábitat año 2010 "
   ]
  },
  {
   "cell_type": "code",
   "execution_count": 17,
   "metadata": {},
   "outputs": [
    {
     "name": "stdout",
     "output_type": "stream",
     "text": [
      "          Fecha      Cuota\n",
      "1    2010-01-01  20.285,24\n",
      "2    2010-01-02  20.285,24\n",
      "3    2010-01-03  20.285,24\n",
      "4    2010-01-04  20.284,97\n",
      "5    2010-01-05  20.292,31\n",
      "..          ...        ...\n",
      "118  2010-12-27  22.206,92\n",
      "119  2010-12-28  22.212,17\n",
      "120  2010-12-29  22.218,22\n",
      "121  2010-12-30  22.225,40\n",
      "122  2010-12-31  22.238,27\n",
      "\n",
      "[365 rows x 2 columns]\n"
     ]
    }
   ],
   "source": [
    "#Parte 1 año 2010\n",
    "\n",
    "start_row = 3667\n",
    "end_row = 3911\n",
    "num_rows = end_row - start_row\n",
    "\n",
    "Cuota_2010_1 = pd.read_csv('vcfE2000-2024.csv', sep = \";\",  decimal = \",\", skiprows=start_row - 1, nrows=num_rows)\n",
    "Cuota_2010_1 = Cuota_2010_1.reset_index()      #Fecha está siendo considerada como un índice, por lo que debe volver a convertirse en una columna\n",
    "# print(Cuota_2010_1.columns)             #Se corrieron todas las columnas a la derecha, por lo tanto el valor de la cuota de hábitat se encuentra en \"Unnamed: 4\"\n",
    "columnas_a_eliminar = ['Fecha', 'CAPITAL', 'Unnamed: 2', 'CUPRUM','HABITAT', 'Unnamed: 6', 'PLANVITAL', 'PROVIDA','Unnamed: 8']\n",
    "Cuota_2010_1 = Cuota_2010_1.drop(columnas_a_eliminar, axis = 1)\n",
    "columnas = ['Fecha', 'Cuota']\n",
    "Cuota_2010_1.columns = columnas\n",
    "Cuota_2010_1 = Cuota_2010_1.drop(0)\n",
    "# print(Cuota_2010_1)\n",
    "\n",
    "#Parte 2 año 2010\n",
    "\n",
    "start_row = 3915\n",
    "end_row = 4038\n",
    "num_rows = end_row - start_row\n",
    "\n",
    "Cuota_2010_2 = pd.read_csv('vcfE2000-2024.csv', sep = \";\",  decimal = \",\", skiprows=start_row - 1, nrows=num_rows)\n",
    "Cuota_2010_2 = Cuota_2010_2.reset_index()      #Fecha está siendo considerada como un índice, por lo que debe volver a convertirse en una columna\n",
    "# print(Cuota_2010_2.columns)             #Se corrieron todas las columnas a la derecha, por lo tanto el valor de la cuota de hábitat se encuentra en \"Unnamed: 4\"\n",
    "columnas_a_eliminar = ['Fecha', 'CAPITAL', 'Unnamed: 2', 'CUPRUM','HABITAT', 'Unnamed: 6', 'MODELO', 'PLANVITAL', 'PROVIDA','Unnamed: 8', 'Unnamed: 10']\n",
    "Cuota_2010_2 = Cuota_2010_2.drop(columnas_a_eliminar, axis = 1)\n",
    "columnas = ['Fecha', 'Cuota']\n",
    "Cuota_2010_2.columns = columnas\n",
    "Cuota_2010_2 = Cuota_2010_2.drop(0)\n",
    "# print(Cuota_2010_2)\n",
    "\n",
    "Cuota_2010 = pd.concat([Cuota_2010_1, Cuota_2010_2], axis = 0)\n",
    "print(Cuota_2010)\n"
   ]
  },
  {
   "cell_type": "markdown",
   "metadata": {},
   "source": [
    "#Valor cuota AFP Hábitat año 2011"
   ]
  },
  {
   "cell_type": "code",
   "execution_count": 18,
   "metadata": {},
   "outputs": [
    {
     "name": "stdout",
     "output_type": "stream",
     "text": [
      "          Fecha      Cuota\n",
      "1    2011-01-01  22.238,27\n",
      "2    2011-01-02  22.238,27\n",
      "3    2011-01-03  22.244,46\n",
      "4    2011-01-04  22.251,01\n",
      "5    2011-01-05  22.002,93\n",
      "..          ...        ...\n",
      "361  2011-12-27  24.083,41\n",
      "362  2011-12-28  24.111,24\n",
      "363  2011-12-29  24.150,42\n",
      "364  2011-12-30  24.217,06\n",
      "365  2011-12-31  24.217,06\n",
      "\n",
      "[365 rows x 2 columns]\n"
     ]
    }
   ],
   "source": [
    "start_row = 4042\n",
    "end_row = 4408\n",
    "num_rows = end_row - start_row\n",
    "\n",
    "Cuota_2011 = pd.read_csv('vcfE2000-2024.csv', sep = \";\",  decimal = \",\", skiprows=start_row - 1, nrows=num_rows)\n",
    "Cuota_2011 = Cuota_2011.reset_index()      #Fecha está siendo considerada como un índice, por lo que debe volver a convertirse en una columna\n",
    "# print(Cuota_2011.columns)             #Se corrieron todas las columnas a la derecha, por lo tanto el valor de la cuota de hábitat se encuentra en \"Unnamed: 4\"\n",
    "columnas_a_eliminar = ['Fecha', 'CAPITAL', 'Unnamed: 2', 'CUPRUM','HABITAT', 'Unnamed: 6', 'MODELO', 'PLANVITAL', 'PROVIDA','Unnamed: 8', 'Unnamed: 10']\n",
    "Cuota_2011 = Cuota_2011.drop(columnas_a_eliminar, axis = 1)\n",
    "columnas = ['Fecha', 'Cuota']\n",
    "Cuota_2011.columns = columnas\n",
    "Cuota_2011 = Cuota_2011.drop(0)\n",
    "print(Cuota_2011)"
   ]
  },
  {
   "cell_type": "markdown",
   "metadata": {},
   "source": [
    "##Valor Cuota AFP Hábitat año 2012"
   ]
  },
  {
   "cell_type": "code",
   "execution_count": 19,
   "metadata": {},
   "outputs": [
    {
     "name": "stdout",
     "output_type": "stream",
     "text": [
      "          Fecha      Cuota\n",
      "1    2012-01-01  24.217,06\n",
      "2    2012-01-02  24.230,67\n",
      "3    2012-01-03  24.241,72\n",
      "4    2012-01-04  24.242,71\n",
      "5    2012-01-05  24.269,61\n",
      "..          ...        ...\n",
      "362  2012-12-27  25.701,29\n",
      "363  2012-12-28  25.706,12\n",
      "364  2012-12-29  25.706,12\n",
      "365  2012-12-30  25.706,12\n",
      "366  2012-12-31  25.696,23\n",
      "\n",
      "[366 rows x 2 columns]\n"
     ]
    }
   ],
   "source": [
    "start_row = 4412\n",
    "end_row = 4779\n",
    "num_rows = end_row - start_row\n",
    "\n",
    "Cuota_2012 = pd.read_csv('vcfE2000-2024.csv', sep = \";\",  decimal = \",\", skiprows=start_row - 1, nrows=num_rows)\n",
    "Cuota_2012 = Cuota_2012.reset_index()      #Fecha está siendo considerada como un índice, por lo que debe volver a convertirse en una columna\n",
    "# print(Cuota_2012.columns)             #Se corrieron todas las columnas a la derecha, por lo tanto el valor de la cuota de hábitat se encuentra en \"Unnamed: 4\"\n",
    "columnas_a_eliminar = ['Fecha', 'CAPITAL', 'Unnamed: 2', 'CUPRUM','HABITAT', 'Unnamed: 6', 'MODELO', 'PLANVITAL', 'PROVIDA','Unnamed: 8', 'Unnamed: 10']\n",
    "Cuota_2012 = Cuota_2012.drop(columnas_a_eliminar, axis = 1)\n",
    "columnas = ['Fecha', 'Cuota']\n",
    "Cuota_2012.columns = columnas\n",
    "Cuota_2012 = Cuota_2012.drop(0)\n",
    "print(Cuota_2012)"
   ]
  },
  {
   "cell_type": "markdown",
   "metadata": {},
   "source": [
    "##Valor cuota AFP Hábitat año 2013"
   ]
  },
  {
   "cell_type": "code",
   "execution_count": 20,
   "metadata": {},
   "outputs": [
    {
     "name": "stdout",
     "output_type": "stream",
     "text": [
      "          Fecha      Cuota\n",
      "1    2013-01-01  25.696,23\n",
      "2    2013-01-02  25.698,19\n",
      "3    2013-01-03  25.626,63\n",
      "4    2013-01-04  25.612,14\n",
      "5    2013-01-05  25.612,14\n",
      "..          ...        ...\n",
      "361  2013-12-27  27.509,46\n",
      "362  2013-12-28  27.509,46\n",
      "363  2013-12-29  27.509,46\n",
      "364  2013-12-30  27.529,59\n",
      "365  2013-12-31  27.532,53\n",
      "\n",
      "[365 rows x 2 columns]\n"
     ]
    }
   ],
   "source": [
    "start_row = 4783\n",
    "end_row = 5149\n",
    "num_rows = end_row - start_row\n",
    "\n",
    "Cuota_2013 = pd.read_csv('vcfE2000-2024.csv', sep = \";\",  decimal = \",\", skiprows=start_row - 1, nrows=num_rows)\n",
    "Cuota_2013 = Cuota_2013.reset_index()      #Fecha está siendo considerada como un índice, por lo que debe volver a convertirse en una columna\n",
    "# print(Cuota_2013.columns)             #Se corrieron todas las columnas a la derecha, por lo tanto el valor de la cuota de hábitat se encuentra en \"Unnamed: 4\"\n",
    "columnas_a_eliminar = ['Fecha', 'CAPITAL', 'Unnamed: 2', 'CUPRUM','HABITAT', 'Unnamed: 6', 'MODELO', 'PLANVITAL', 'PROVIDA','Unnamed: 8', 'Unnamed: 10']\n",
    "Cuota_2013 = Cuota_2013.drop(columnas_a_eliminar, axis = 1)\n",
    "columnas = ['Fecha', 'Cuota']\n",
    "Cuota_2013.columns = columnas\n",
    "Cuota_2013 = Cuota_2013.drop(0)\n",
    "print(Cuota_2013)"
   ]
  },
  {
   "cell_type": "markdown",
   "metadata": {},
   "source": [
    "##Valor cuota AFP Hábitat año 2014"
   ]
  },
  {
   "cell_type": "code",
   "execution_count": 21,
   "metadata": {},
   "outputs": [
    {
     "name": "stdout",
     "output_type": "stream",
     "text": [
      "          Fecha      Cuota\n",
      "1    2014-01-01  27.532,53\n",
      "2    2014-01-02  27.541,66\n",
      "3    2014-01-03  27.535,20\n",
      "4    2014-01-04  27.535,20\n",
      "5    2014-01-05  27.535,20\n",
      "..          ...        ...\n",
      "361  2014-12-27  31.065,77\n",
      "362  2014-12-28  31.065,77\n",
      "363  2014-12-29  31.074,24\n",
      "364  2014-12-30  31.076,17\n",
      "365  2014-12-31  31.109,75\n",
      "\n",
      "[365 rows x 2 columns]\n"
     ]
    }
   ],
   "source": [
    "start_row = 5153\n",
    "end_row = 5519\n",
    "num_rows = end_row - start_row\n",
    "\n",
    "Cuota_2014 = pd.read_csv('vcfE2000-2024.csv', sep = \";\",  decimal = \",\", skiprows=start_row - 1, nrows=num_rows)\n",
    "Cuota_2014 = Cuota_2014.reset_index()      #Fecha está siendo considerada como un índice, por lo que debe volver a convertirse en una columna\n",
    "# print(Cuota_2014.columns)             #Se corrieron todas las columnas a la derecha, por lo tanto el valor de la cuota de hábitat se encuentra en \"Unnamed: 4\"\n",
    "columnas_a_eliminar = ['Fecha', 'CAPITAL', 'Unnamed: 2', 'CUPRUM','HABITAT', 'Unnamed: 6', 'MODELO', 'PLANVITAL', 'PROVIDA','Unnamed: 8', 'Unnamed: 10']\n",
    "Cuota_2014 = Cuota_2014.drop(columnas_a_eliminar, axis = 1)\n",
    "columnas = ['Fecha', 'Cuota']\n",
    "Cuota_2014.columns = columnas\n",
    "Cuota_2014 = Cuota_2014.drop(0)\n",
    "print(Cuota_2014)"
   ]
  },
  {
   "cell_type": "markdown",
   "metadata": {},
   "source": [
    "##Valor cuota AFP Hábitat año 2015 "
   ]
  },
  {
   "cell_type": "code",
   "execution_count": 22,
   "metadata": {},
   "outputs": [
    {
     "name": "stdout",
     "output_type": "stream",
     "text": [
      "          Fecha      Cuota\n",
      "1    2015-01-01  31.109,75\n",
      "2    2015-01-02  31.094,17\n",
      "3    2015-01-03  31.094,17\n",
      "4    2015-01-04  31.094,17\n",
      "5    2015-01-05  31.100,79\n",
      "..          ...        ...\n",
      "361  2015-12-27  32.606,51\n",
      "362  2015-12-28  32.619,59\n",
      "363  2015-12-29  32.641,33\n",
      "364  2015-12-30  32.663,68\n",
      "365  2015-12-31  32.650,86\n",
      "\n",
      "[365 rows x 2 columns]\n"
     ]
    }
   ],
   "source": [
    "start_row = 5523\n",
    "end_row = 5889\n",
    "num_rows = end_row - start_row\n",
    "\n",
    "Cuota_2015 = pd.read_csv('vcfE2000-2024.csv', sep = \";\",  decimal = \",\", skiprows=start_row - 1, nrows=num_rows)\n",
    "Cuota_2015 = Cuota_2015.reset_index()      #Fecha está siendo considerada como un índice, por lo que debe volver a convertirse en una columna\n",
    "# print(Cuota_2015.columns)             #Se corrieron todas las columnas a la derecha, por lo tanto el valor de la cuota de hábitat se encuentra en \"Unnamed: 4\"\n",
    "columnas_a_eliminar = ['Fecha', 'CAPITAL', 'Unnamed: 2', 'CUPRUM','HABITAT', 'Unnamed: 6', 'MODELO', 'PLANVITAL', 'PROVIDA','Unnamed: 8', 'Unnamed: 10']\n",
    "Cuota_2015 = Cuota_2015.drop(columnas_a_eliminar, axis = 1)\n",
    "columnas = ['Fecha', 'Cuota']\n",
    "Cuota_2015.columns = columnas\n",
    "Cuota_2015 = Cuota_2015.drop(0)\n",
    "print(Cuota_2015)"
   ]
  },
  {
   "cell_type": "markdown",
   "metadata": {},
   "source": [
    "##Valor cuota AFP Hábitat año 2016"
   ]
  },
  {
   "cell_type": "code",
   "execution_count": 24,
   "metadata": {},
   "outputs": [
    {
     "name": "stdout",
     "output_type": "stream",
     "text": [
      "          Fecha      Cuota\n",
      "1    2016-01-01  32.650,86\n",
      "2    2016-01-02  32.650,86\n",
      "3    2016-01-03  32.650,86\n",
      "4    2016-01-04  32.649,40\n",
      "5    2016-01-05  32.666,31\n",
      "..          ...        ...\n",
      "362  2016-12-27  34.897,90\n",
      "363  2016-12-28  34.930,58\n",
      "364  2016-12-29  34.970,38\n",
      "365  2016-12-30  35.013,10\n",
      "366  2016-12-31  35.013,10\n",
      "\n",
      "[366 rows x 2 columns]\n"
     ]
    }
   ],
   "source": [
    "start_row = 5893\n",
    "end_row = 6260\n",
    "num_rows = end_row - start_row\n",
    "\n",
    "Cuota_2016 = pd.read_csv('vcfE2000-2024.csv', sep = \";\",  decimal = \",\", skiprows=start_row - 1, nrows=num_rows)\n",
    "Cuota_2016 = Cuota_2016.reset_index()      #Fecha está siendo considerada como un índice, por lo que debe volver a convertirse en una columna\n",
    "# print(Cuota_2016.columns)             #Se corrieron todas las columnas a la derecha, por lo tanto el valor de la cuota de hábitat se encuentra en \"Unnamed: 4\"\n",
    "columnas_a_eliminar = ['Fecha', 'CAPITAL', 'Unnamed: 2', 'CUPRUM','HABITAT', 'Unnamed: 6', 'MODELO', 'PLANVITAL', 'PROVIDA','Unnamed: 8', 'Unnamed: 10']\n",
    "Cuota_2016 = Cuota_2016.drop(columnas_a_eliminar, axis = 1)\n",
    "columnas = ['Fecha', 'Cuota']\n",
    "Cuota_2016.columns = columnas\n",
    "Cuota_2016 = Cuota_2016.drop(0)\n",
    "print(Cuota_2016)"
   ]
  },
  {
   "cell_type": "markdown",
   "metadata": {},
   "source": [
    "##Valor cuota AFP Hábitat año 2017"
   ]
  }
 ],
 "metadata": {
  "kernelspec": {
   "display_name": "base",
   "language": "python",
   "name": "python3"
  },
  "language_info": {
   "codemirror_mode": {
    "name": "ipython",
    "version": 3
   },
   "file_extension": ".py",
   "mimetype": "text/x-python",
   "name": "python",
   "nbconvert_exporter": "python",
   "pygments_lexer": "ipython3",
   "version": "3.11.5"
  }
 },
 "nbformat": 4,
 "nbformat_minor": 2
}
